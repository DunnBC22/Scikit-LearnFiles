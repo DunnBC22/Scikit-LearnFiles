{
 "cells": [
  {
   "cell_type": "code",
   "execution_count": 9,
   "metadata": {},
   "outputs": [
    {
     "name": "stdout",
     "output_type": "stream",
     "text": [
      "<class 'pandas.core.frame.DataFrame'>\n",
      "RangeIndex: 50 entries, 0 to 49\n",
      "Data columns (total 5 columns):\n",
      " #   Column           Non-Null Count  Dtype  \n",
      "---  ------           --------------  -----  \n",
      " 0   Marketing Spend  50 non-null     float64\n",
      " 1   Administration   50 non-null     float64\n",
      " 2   Transport        50 non-null     float64\n",
      " 3   Area             50 non-null     object \n",
      " 4   Profit           50 non-null     float64\n",
      "dtypes: float64(4), object(1)\n",
      "memory usage: 2.1+ KB\n",
      "None \n",
      "\n",
      "   Marketing Spend  Administration  Transport     Area     Profit\n",
      "0        114523.61       136897.80  471784.10    Dhaka  192261.83\n",
      "1        162597.70       151377.59  443898.53      Ctg  191792.06\n",
      "2        153441.51       101145.55  407934.54  Rangpur  191050.39\n",
      "3        144372.41       118671.85  383199.62    Dhaka  182901.99\n",
      "4        142107.34        91391.77  366168.42  Rangpur  166187.94 \n",
      "\n",
      "\n",
      " LinearRegression()\n",
      "\n",
      "\n",
      " [0.69400705 0.03630713 0.06816975]\n",
      "\n",
      "\n",
      "\n",
      "x: 0.694007054538796\n",
      "y: 0.036307129682480926\n",
      "z: 0.06816974610859418\n",
      "\n",
      "\n",
      " 42058.114995804295\n",
      "\n",
      "\n",
      "The equation as a result of this regression test is:\n",
      "result =  0.694007054538796 (Marketing Spend) +  0.036307129682480926 (Administration) +  0.06816974610859418 (Transport) +  42058.114995804295\n"
     ]
    }
   ],
   "source": [
    "'''\n",
    "Before starting, I want to thank Sreenivas Bhattiprolu with Python for Microscopists \n",
    "for his assistance with learning this topic.\n",
    "\n",
    "Dataset: https://www.kaggle.com/studymart/profit-prediction-using-linear-regression\n",
    "'''\n",
    "\n",
    "import pandas as pd\n",
    "import numpy as np\n",
    "from sklearn.linear_model import LinearRegression\n",
    "from sklearn.model_selection import train_test_split\n",
    "from matplotlib import pyplot as plt\n",
    "from sklearn import metrics\n",
    "\n",
    "data = pd.read_csv(\"~/Desktop/Sklearn Data Sets/ProfitPredictionLinearRegression/PredictProfit.csv\")\n",
    "\n",
    "print(data.info(),\"\\n\")\n",
    "print(data.head(),\"\\n\")\n",
    "\n",
    "LR = LinearRegression().fit(data[['Marketing Spend', 'Administration', 'Transport']], data.Profit)\n",
    "print(\"\\n\",LR)\n",
    "\n",
    "print(\"\\n\\n\", LR.coef_)\n",
    "x,y,z=LR.coef_\n",
    "print(\"\\n\\n\")\n",
    "print(\"x:\", x)\n",
    "print(\"y:\", y)\n",
    "print(\"z:\", z)\n",
    "\n",
    "print(\"\\n\\n\", LR.intercept_)\n",
    "\n",
    "print(\"\\n\\nThe equation as a result of this regression test is:\")\n",
    "print(\"result = \",x,\"(Marketing Spend) + \",y,\"(Administration) + \",z,\"(Transport) + \",LR.intercept_)"
   ]
  },
  {
   "cell_type": "code",
   "execution_count": 10,
   "metadata": {},
   "outputs": [
    {
     "data": {
      "text/plain": [
       "114978.42058652279"
      ]
     },
     "execution_count": 10,
     "metadata": {},
     "output_type": "execute_result"
    }
   ],
   "source": [
    "'''predict for a set of values:\n",
    "Marketing Spend: 100,000\n",
    "Administration: 50,000\n",
    "Transport: 25,000\n",
    "'''\n",
    "\n",
    "prediction_values=[100000, 50000, 25000]\n",
    "\n",
    "LR.predict([[100000,50000,25000]])[0]"
   ]
  },
  {
   "cell_type": "code",
   "execution_count": 11,
   "metadata": {},
   "outputs": [
    {
     "data": {
      "text/plain": [
       "0.9010441949658275"
      ]
     },
     "execution_count": 11,
     "metadata": {},
     "output_type": "execute_result"
    }
   ],
   "source": [
    "#score it\n",
    "LR.score(data[['Marketing Spend', 'Administration', 'Transport']], data.Profit) #(x, y)"
   ]
  },
  {
   "cell_type": "code",
   "execution_count": 12,
   "metadata": {},
   "outputs": [
    {
     "data": {
      "image/png": "[encoded data removed]",
      "text/plain": [
       "<Figure size 432x288 with 1 Axes>"
      ]
     },
     "metadata": {
      "needs_background": "light"
     },
     "output_type": "display_data"
    }
   ],
   "source": [
    "'''\n",
    "Since the Marketing Spend has far and away the biggest impact on Profit, I am going to run a Linear Regression on it.\n",
    "'''\n",
    "\n",
    "data.plot(kind=\"scatter\", x='Marketing Spend', y='Profit')\n",
    "plt.show()"
   ]
  },
  {
   "cell_type": "code",
   "execution_count": 13,
   "metadata": {},
   "outputs": [
    {
     "data": {
      "image/png": "[encoded data removed]",
      "text/plain": [
       "<Figure size 432x288 with 1 Axes>"
      ]
     },
     "metadata": {
      "needs_background": "light"
     },
     "output_type": "display_data"
    }
   ],
   "source": [
    "X_train, X_test, y_train, y_test=train_test_split(data['Marketing Spend'], data.Profit)\n",
    "#print(X_train)\n",
    "#print(X_test)\n",
    "#print(y_train)\n",
    "#print(y_test)\n",
    "plt.scatter(X_train, y_train, label=\"Training Data\", color='r', alpha=.7)\n",
    "plt.scatter(X_test, y_test, label=\"Test Data\", color='g', alpha=.7)\n",
    "plt.legend()\n",
    "plt.title(\"Test Train Split\")\n",
    "plt.show()"
   ]
  },
  {
   "cell_type": "code",
   "execution_count": 14,
   "metadata": {},
   "outputs": [
    {
     "data": {
      "text/plain": [
       "LinearRegression()"
      ]
     },
     "execution_count": 14,
     "metadata": {},
     "output_type": "execute_result"
    }
   ],
   "source": [
    "LR2 = LinearRegression()\n",
    "LR2.fit(X_train.values.reshape(-1,1), y_train.values)"
   ]
  },
  {
   "cell_type": "code",
   "execution_count": 15,
   "metadata": {},
   "outputs": [
    {
     "data": {
      "image/png": "[encoded data removed]",
      "text/plain": [
       "<Figure size 432x288 with 1 Axes>"
      ]
     },
     "metadata": {
      "needs_background": "light"
     },
     "output_type": "display_data"
    },
    {
     "name": "stdout",
     "output_type": "stream",
     "text": [
      "\n",
      "The R^2 score is:  0.9566366494349613 \n",
      "\n",
      "The prediction of 100,000 in marketing spend results in a profit of 134151.76182077246 \n",
      "\n",
      "0.8400305495521538\n",
      "50148.70686555708\n"
     ]
    }
   ],
   "source": [
    "prediction = LR2.predict(X_test.values.reshape(-1,1))\n",
    "\n",
    "plt.plot(X_test, prediction, label=\"Linear Regression\", color=\"b\" )\n",
    "plt.scatter(X_test, y_test, label=\"Actual Test Data\", color=\"g\")\n",
    "plt.legend()\n",
    "plt.show()\n",
    "\n",
    "print(\"\\nThe R^2 score is: \", LR2.score(X_test.values.reshape(-1,1), y_test.values),\"\\n\")\n",
    "print(\"The prediction of 100,000 in marketing spend results in a profit of\", LR2.predict(np.array([[100000]]))[0],\"\\n\")\n",
    "print(LR2.coef_[0])\n",
    "print(LR2.intercept_)"
   ]
  },
  {
   "cell_type": "code",
   "execution_count": 22,
   "metadata": {},
   "outputs": [
    {
     "name": "stdout",
     "output_type": "stream",
     "text": [
      "5993.75871049632\n",
      "56379074.33540178\n",
      "4293.242999403243\n"
     ]
    }
   ],
   "source": [
    "# Metrics\n",
    "\n",
    "print(metrics.mean_absolute_error(y_test.values.reshape(-1,1), prediction))\n",
    "print(metrics.mean_squared_error(y_test.values.reshape(-1,1), prediction))\n",
    "print(metrics.median_absolute_error(y_test.values.reshape(-1,1), prediction))\n"
   ]
  }
 ],
 "metadata": {
  "kernelspec": {
   "display_name": "Python 3",
   "language": "python",
   "name": "python3"
  },
  "language_info": {
   "codemirror_mode": {
    "name": "ipython",
    "version": 3
   },
   "file_extension": ".py",
   "mimetype": "text/x-python",
   "name": "python",
   "nbconvert_exporter": "python",
   "pygments_lexer": "ipython3",
   "version": "3.8.3"
  }
 },
 "nbformat": 4,
 "nbformat_minor": 4
}
